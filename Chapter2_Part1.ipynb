{
 "cells": [
  {
   "cell_type": "code",
   "execution_count": 1,
   "id": "35935ade-a37e-4128-8499-a9f262699fb4",
   "metadata": {},
   "outputs": [
    {
     "data": {
      "text/plain": [
       "'\\nBài 1. Viết chương trình nhập vào một chuỗi\\nXuất ra màn hình chuỗi ký tự hoa\\nXuất ra màn hình chuỗi ký tự có ký tự đầu là ký tự hoa\\nXuất ra màn hình chuỗi ký tự thường\\n'"
      ]
     },
     "execution_count": 1,
     "metadata": {},
     "output_type": "execute_result"
    }
   ],
   "source": [
    "\"\"\"\n",
    "Bài 1. Viết chương trình nhập vào một chuỗi\n",
    "Xuất ra màn hình chuỗi ký tự hoa\n",
    "Xuất ra màn hình chuỗi ký tự có ký tự đầu là ký tự hoa\n",
    "Xuất ra màn hình chuỗi ký tự thường\n",
    "\"\"\"\n"
   ]
  },
  {
   "cell_type": "code",
   "execution_count": null,
   "id": "9d2f01df-e2a9-4b2c-8cc6-fc4b9af2cdce",
   "metadata": {},
   "outputs": [
    {
     "name": "stdout",
     "output_type": "stream",
     "text": [
      "Enter your string: as\n"
     ]
    },
    {
     "name": "stdout",
     "output_type": "stream",
     "text": [
      "A Upper String is: AS\n",
      "A Lower String is : as\n",
      "A Title String is : As\n"
     ]
    }
   ],
   "source": [
    "st = input(\"Enter your string:\")\n",
    "st_upper = st.upper()\n",
    "st_lower = st.lower()\n",
    "st_title = st.title()\n",
    "\n",
    "print(\"A Upper String is: \" + st_upper)\n",
    "print(\"A Lower String is : \" + st_lower)\n",
    "print(\"A Title String is : \" + st_title)"
   ]
  },
  {
   "cell_type": "code",
   "execution_count": null,
   "id": "98e97b62-9325-4274-80fe-98c384875cbc",
   "metadata": {},
   "outputs": [],
   "source": [
    "'''\n",
    "Bài 2. Cho chuỗi biểu diễn địa chỉ email:   \" minhnhutvh@gmail.com\" \n",
    "Rút trích và hiển thị chuỗi \"gmail.com\" (Đây chính là  tên Host)\n",
    "'''"
   ]
  },
  {
   "cell_type": "code",
   "execution_count": null,
   "id": "2208cd36-d314-4927-9fb5-55bc689b501e",
   "metadata": {},
   "outputs": [],
   "source": [
    "data = \"minhnhutvh@gmail.com\"\n",
    "position = data.find(\"@\")               \n",
    "host = data[position +1 :]\n",
    "print(host)\n"
   ]
  },
  {
   "cell_type": "code",
   "execution_count": null,
   "id": "2411f1dd-bada-4dc7-90be-d5b14be8685d",
   "metadata": {},
   "outputs": [],
   "source": [
    "'''\n",
    "Bài 3. Cho chuỗi biểu diễn:  \n",
    "        ‘minhnhutvh@gmai.com Sat Jan 5 09:14:16’\n",
    "Rút trích và hiển thị chuỗi “gmail.com”\n",
    "'''"
   ]
  },
  {
   "cell_type": "code",
   "execution_count": null,
   "id": "c60f43e5-e0ba-4f2f-be62-a3df3ed218a8",
   "metadata": {},
   "outputs": [],
   "source": [
    "data = \"minhnhutvh@gmail.com Sat Jan 5 09:14:16\"\n",
    "Start_position = data.find(\"@\")                #  10\n",
    "End_position = data.find(\" \", Start_position)  #  26\n",
    "host = data[Start_position +1 : End_position]\n",
    "print(host)\n"
   ]
  },
  {
   "cell_type": "code",
   "execution_count": null,
   "id": "4a1b2728-50bc-488b-9e8d-db3b27daf173",
   "metadata": {},
   "outputs": [
    {
     "data": {
      "text/plain": [
       "'Bài 4: Viết một chương trình thay thế một từ trong chuỗi. Yêu cầu: \\nNhập vào một chuỗi \\nNhập vào một từ cần thay thế và một từ thay thế. \\nSau đó, hiển thị kết quả ra màn hình.\\n'"
      ]
     },
     "execution_count": 35,
     "metadata": {},
     "output_type": "execute_result"
    }
   ],
   "source": [
    "\"\"\"Bài 4: Viết một chương trình thay thế một từ trong chuỗi. Yêu cầu: \n",
    "Nhập vào một chuỗi \n",
    "Nhập vào một từ cần thay thế và một từ thay thế. \n",
    "Sau đó, hiển thị kết quả ra màn hình.\n",
    "\"\"\""
   ]
  },
  {
   "cell_type": "code",
   "execution_count": null,
   "id": "d7e501cf-58a4-4d4d-bc28-6c8d4b93ce7a",
   "metadata": {},
   "outputs": [
    {
     "name": "stdout",
     "output_type": "stream",
     "text": [
      "Enter your string:  Hello\n",
      " Enter the word that needs to replace:  ll\n",
      " Enter the word after being replaced:  33\n"
     ]
    },
    {
     "name": "stdout",
     "output_type": "stream",
     "text": [
      "He33o\n"
     ]
    }
   ],
   "source": [
    "st1 = input(\"Enter your string: \")\n",
    "st2 = input(\" Enter the word that needs to replace: \")\n",
    "st3 = input(\" Enter the word after being replaced: \")\n",
    "\n",
    "st1 = st1.replace(st2,st3)\n",
    "print(st1)"
   ]
  },
  {
   "cell_type": "code",
   "execution_count": null,
   "id": "df965ab3-6bd7-4916-9242-f7b247f56fed",
   "metadata": {},
   "outputs": [],
   "source": [
    "\"\"\"\n",
    "Bài 5: Viết một chương trình nhập vào 1 chuỗi. Sau đó, xuất ra màn hình: \n",
    "- 5 ký tự cuối cùng; 5 ký tự đầu tiên. \n",
    "- 4 chuỗi trên một dòng cách 1 khoảng trắng.\n",
    "- 4 chuỗi trên 4 dòng.\n",
    "\"\"\""
   ]
  },
  {
   "cell_type": "code",
   "execution_count": null,
   "id": "162952a5-761a-4069-b8fb-dd6287858a07",
   "metadata": {},
   "outputs": [],
   "source": [
    "str = input(\"Enter a string: \")\n",
    "print(str[-5:])\n",
    "print(str[:5])\n",
    "print((str + \" \") * 4)\n",
    "print(str * 4)"
   ]
  },
  {
   "cell_type": "code",
   "execution_count": null,
   "id": "865c35bb-061c-4745-8fa7-152cdf0bfff1",
   "metadata": {},
   "outputs": [],
   "source": [
    "\"\"\"\n",
    "Bài 6: Viết chương trình tính thể tích hình trụ V = πr2h với r là bán kính của mặt đáy, h là chiều cao của hình trụ, và π là hằng số pi. Với r và h nhập vào từ bàn phím.\n",
    "\"\"\""
   ]
  },
  {
   "cell_type": "code",
   "execution_count": null,
   "id": "622782ab-a226-4a99-b985-4294d3c6c0be",
   "metadata": {},
   "outputs": [],
   "source": [
    "r = int(input(\"r = \"))\n",
    "h = int(input(\"h = \"))\n",
    "v = __import__(\"math\").pi * r * 2 * h\n",
    "print(v)"
   ]
  },
  {
   "cell_type": "code",
   "execution_count": null,
   "id": "c96663bd-0166-4338-8763-265a0072d4d2",
   "metadata": {},
   "outputs": [],
   "source": [
    "\"\"\"\n",
    "Bài 7: Viết chương trình tính diện tích tam giác theo công thức. Yêu cầu nhập vào 3 cạnh và các góc A,B và C (radian)\n",
    "\"\"\""
   ]
  },
  {
   "cell_type": "code",
   "execution_count": null,
   "id": "b6abdf83-38bd-4de6-b873-9522c1a46c06",
   "metadata": {},
   "outputs": [
    {
     "name": "stdout",
     "output_type": "stream",
     "text": [
      "a: 1\n",
      "b: 2\n",
      "c: 3\n",
      "A: 4\n",
      "B: 5\n",
      "C: 6\n"
     ]
    },
    {
     "name": "stdout",
     "output_type": "stream",
     "text": [
      "Diện tích tam giác S1:  -2.2704074859237844\n",
      "Diện tích tam giác S2 -1.4383864119947076\n",
      "Diện tích tam giác S3 -0.27941549819892586\n"
     ]
    }
   ],
   "source": [
    "import math\n",
    "\n",
    "a = float(input(\"a:\"))\n",
    "b = float(input(\"b:\"))\n",
    "c = float(input(\"c:\"))\n",
    "\n",
    "A = float(input(\"A:\"))\n",
    "B = float(input(\"B:\"))\n",
    "C = float(input(\"C:\"))\n",
    "\n",
    "S1 = 0.5 * b * c * math.sin(A)\n",
    "S2 = 0.5 * a * c * math.sin(B)\n",
    "S3 = 0.5 * a * b * math.sin(C)\n",
    "\n",
    "print(\"Diện tích tam giác S1: \", S1)\n",
    "print(\"Diện tích tam giác S2\", S2)\n",
    "print(\"Diện tích tam giác S3\", S3)"
   ]
  },
  {
   "cell_type": "code",
   "execution_count": null,
   "id": "b42e88d3-30ad-4e2f-8a94-a8b99f2801aa",
   "metadata": {},
   "outputs": [
    {
     "data": {
      "text/plain": [
       "'\\nBài 8: Viết chương trình tính diện tích tam giác đều theo định lý Heron. Yêu cầu nhập vào cạnh tam giác đều.\\n'"
      ]
     },
     "execution_count": 40,
     "metadata": {},
     "output_type": "execute_result"
    }
   ],
   "source": [
    "\"\"\"\n",
    "Bài 8: Viết chương trình tính diện tích tam giác đều theo định lý Heron. Yêu cầu nhập vào cạnh tam giác đều.\n",
    "\"\"\""
   ]
  },
  {
   "cell_type": "code",
   "execution_count": null,
   "id": "2974d1c1-5eec-40ec-8f2b-57fe696fe42a",
   "metadata": {},
   "outputs": [
    {
     "name": "stdout",
     "output_type": "stream",
     "text": [
      "a = 3\n"
     ]
    },
    {
     "name": "stdout",
     "output_type": "stream",
     "text": [
      "3.8971143170299736\n"
     ]
    }
   ],
   "source": [
    "import math\n",
    "a = int(input(\"a =\"))\n",
    "\n",
    "s = a ** 2 * (math.sqrt(3) / 4)\n",
    "\n",
    "print(s)"
   ]
  },
  {
   "cell_type": "code",
   "execution_count": null,
   "id": "2bf3fe7e-67a1-4a74-8daf-75de18e44bee",
   "metadata": {},
   "outputs": [
    {
     "data": {
      "text/plain": [
       "'\\nBài 9: Chạy chương trình Bài 7, nhập giá trị cho trường hợp tam giác đều (lưu ý: giá trị cạnh tam giác = giá trị cạnh tam giác Bài 8). Đánh giá kết quả khi chạy chương trình Bài 7 và Bài 8\\n'"
      ]
     },
     "execution_count": 43,
     "metadata": {},
     "output_type": "execute_result"
    }
   ],
   "source": [
    "\"\"\"\n",
    "Bài 9: Chạy chương trình Bài 7, nhập giá trị cho trường hợp tam giác đều (lưu ý: giá trị cạnh tam giác = giá trị cạnh tam giác Bài 8). Đánh giá kết quả khi chạy chương trình Bài 7 và Bài 8\n",
    "\"\"\""
   ]
  },
  {
   "cell_type": "code",
   "execution_count": null,
   "id": "ae437f45-48df-4db1-a0b4-83b3a4b54931",
   "metadata": {},
   "outputs": [
    {
     "data": {
      "text/plain": [
       "'\\nBài 10: Viết chương trình yêu cầu người dùng nhập chiều rộng và chiều dài của một căn phòng. Chiều dài và chiều rộng sẽ hiển thị kiểu số dấu phẩy động. Hiển thị diện tích căn phòng. \\n'"
      ]
     },
     "execution_count": 4,
     "metadata": {},
     "output_type": "execute_result"
    }
   ],
   "source": [
    "\"\"\"\n",
    "Bài 10: Viết chương trình yêu cầu người dùng nhập chiều rộng và chiều dài của một căn phòng. Chiều dài và chiều rộng sẽ hiển thị kiểu số dấu phẩy động. Hiển thị diện tích căn phòng. \n",
    "\"\"\""
   ]
  },
  {
   "cell_type": "code",
   "execution_count": null,
   "id": "5afc82ad-1a07-4d23-8fcd-cba52df5e9fb",
   "metadata": {},
   "outputs": [
    {
     "name": "stdout",
     "output_type": "stream",
     "text": [
      "Length:  4\n",
      "Width:  5\n"
     ]
    },
    {
     "name": "stdout",
     "output_type": "stream",
     "text": [
      "20.0\n"
     ]
    }
   ],
   "source": [
    "length = float(input(\"Length: \"))\n",
    "width = float(input(\"Width: \"))\n",
    "\n",
    "print(length * width)"
   ]
  },
  {
   "cell_type": "code",
   "execution_count": null,
   "id": "a61417b8-68dd-4828-8cee-787ca44d0bd4",
   "metadata": {},
   "outputs": [
    {
     "data": {
      "text/plain": [
       "'\\nBài 11: Viết chương trình đọc chiều dài và chiều rộng của một cánh đồng từ người dùng. Hiển thị diện tích của cánh đồng theo theo đơn vị tính là Mẫu Anh. Gợi ý: Một Mẫu Anh bằng 43.560 met vuông.\\n'"
      ]
     },
     "execution_count": 5,
     "metadata": {},
     "output_type": "execute_result"
    }
   ],
   "source": [
    "\"\"\"\n",
    "Bài 11: Viết chương trình đọc chiều dài và chiều rộng của một cánh đồng từ người dùng. Hiển thị diện tích của cánh đồng theo theo đơn vị tính là Mẫu Anh. Gợi ý: Một Mẫu Anh bằng 43.560 met vuông.\n",
    "\"\"\""
   ]
  },
  {
   "cell_type": "code",
   "execution_count": null,
   "id": "f5247fe2-46f2-42fd-aeaf-c74cd1f9441f",
   "metadata": {},
   "outputs": [
    {
     "name": "stdout",
     "output_type": "stream",
     "text": [
      "Length:  5\n",
      "Width:  4\n"
     ]
    },
    {
     "name": "stdout",
     "output_type": "stream",
     "text": [
      "0.0004591368227731864 acre\n"
     ]
    }
   ],
   "source": [
    "length = float(input(\"Length: \"))\n",
    "width = float(input(\"Width: \"))\n",
    "\n",
    "print((length * width) / 43560, \"acre\")"
   ]
  },
  {
   "cell_type": "code",
   "execution_count": null,
   "id": "c87f680b-1575-4389-8eea-77a621d12489",
   "metadata": {},
   "outputs": [
    {
     "data": {
      "text/plain": [
       "'\\nBài 12: Viết chương trình nhập chi phí của một bữa ăn tại nhà hàng từ người dùng. Chương trình sẽ tính thuế và tiền boa cho bữa ăn. Trong đó, tiền boa là 18% số tiền bữa ăn (không có thuế); tiền thuế là 5% số tiền bữa ăn. Đầu ra của chương trình là tổng tiền, gồm: thuế, số tiền boa và tiền bữa ăn. Định dạng đầu ra sao cho tất cả các giá trị được hiển thị bằng hai con số thập phân\\n'"
      ]
     },
     "execution_count": 7,
     "metadata": {},
     "output_type": "execute_result"
    }
   ],
   "source": [
    "\"\"\"\n",
    "Bài 12: Viết chương trình nhập chi phí của một bữa ăn tại nhà hàng từ người dùng. Chương trình sẽ tính thuế và tiền boa cho bữa ăn. Trong đó, tiền boa là 18% số tiền bữa ăn (không có thuế); tiền thuế là 5% số tiền bữa ăn. Đầu ra của chương trình là tổng tiền, gồm: thuế, số tiền boa và tiền bữa ăn. Định dạng đầu ra sao cho tất cả các giá trị được hiển thị bằng hai con số thập phân\n",
    "\"\"\""
   ]
  },
  {
   "cell_type": "code",
   "execution_count": null,
   "id": "60f0f7e5-2b99-40f2-9bd8-728e357402de",
   "metadata": {},
   "outputs": [
    {
     "name": "stdout",
     "output_type": "stream",
     "text": [
      "Bill:  111\n"
     ]
    },
    {
     "name": "stdout",
     "output_type": "stream",
     "text": [
      "Pay: 136.53 $\n"
     ]
    }
   ],
   "source": [
    "bill = float(input(\"Bill: \"))\n",
    "tips = bill / 100 * 18\n",
    "tax = bill / 100 * 5\n",
    "\n",
    "print(\"Pay:\", round((bill + tips + tax), 2), \"$\")"
   ]
  },
  {
   "cell_type": "code",
   "execution_count": null,
   "id": "63f41cec-1a4e-4b18-85f3-5397f03ebe80",
   "metadata": {},
   "outputs": [
    {
     "data": {
      "text/plain": [
       "'\\nBài 13: Viết chương trình đọc một số nguyên dương n từ người dùng và sau đó hiển thị tổng của tất cả các số nguyên từ 1 đến n. Tổng của n số nguyên dương đầu tiên có thể được tính bằng công thức:\\n'"
      ]
     },
     "execution_count": 11,
     "metadata": {},
     "output_type": "execute_result"
    }
   ],
   "source": [
    "\"\"\"\n",
    "Bài 13: Viết chương trình đọc một số nguyên dương n từ người dùng và sau đó hiển thị tổng của tất cả các số nguyên từ 1 đến n. Tổng của n số nguyên dương đầu tiên có thể được tính bằng công thức:\n",
    "\"\"\""
   ]
  },
  {
   "cell_type": "code",
   "execution_count": null,
   "id": "96cd4e72-9198-4e64-bed9-19a913b0adaa",
   "metadata": {},
   "outputs": [
    {
     "name": "stdout",
     "output_type": "stream",
     "text": [
      "n: 10\n"
     ]
    },
    {
     "name": "stdout",
     "output_type": "stream",
     "text": [
      "Sum from 1 to n: 55\n"
     ]
    }
   ],
   "source": [
    "n = int(input(\"n:\"))\n",
    "print(\"Sum from 1 to n:\",int((n * (n + 1)) / 2))"
   ]
  },
  {
   "cell_type": "code",
   "execution_count": null,
   "id": "0f2ba4d6-9655-4d78-88b6-c0f6dc6d8cf2",
   "metadata": {},
   "outputs": [
    {
     "data": {
      "text/plain": [
       "'\\nBài 14: Viết một chương trình đọc hai số nguyên a và b từ người dùng. Chương trình sẽ tính toán và hiển thị:\\nTổng của a và b\\nHiệu của a và b\\nTích của a và b\\nThương của a chia cho b\\nPhần còn lại khi a được chia cho b\\nKết quả của log(10)a\\nKết quả của a^b\\n'"
      ]
     },
     "execution_count": 14,
     "metadata": {},
     "output_type": "execute_result"
    }
   ],
   "source": [
    "\"\"\"\n",
    "Bài 14: Viết một chương trình đọc hai số nguyên a và b từ người dùng. Chương trình sẽ tính toán và hiển thị:\n",
    "Tổng của a và b\n",
    "Hiệu của a và b\n",
    "Tích của a và b\n",
    "Thương của a chia cho b\n",
    "Phần còn lại khi a được chia cho b\n",
    "Kết quả của log(10)a\n",
    "Kết quả của a^b\n",
    "\"\"\""
   ]
  },
  {
   "cell_type": "code",
   "execution_count": null,
   "id": "d22e5135-08d0-4c8d-852b-3dae7bef8b3e",
   "metadata": {},
   "outputs": [
    {
     "name": "stdout",
     "output_type": "stream",
     "text": [
      "a: 3\n",
      "b: 4\n"
     ]
    },
    {
     "name": "stdout",
     "output_type": "stream",
     "text": [
      "a + b = 7 \n",
      "a - b = -1 \n",
      "a * b = 12 \n",
      "a / b = 0.75 \n",
      "a % b = 3 \n",
      "log(10)a = 0.48 \n",
      "a ^ b = 81\n"
     ]
    }
   ],
   "source": [
    "a = int(input(\"a:\"))\n",
    "b = int(input(\"b:\"))\n",
    "\n",
    "print(\"a + b =\", a + b, \"\\na - b =\", a - b, \"\\na * b =\", a * b, \"\\na / b =\", round((a / b), 2), \"\\na % b =\", a % b, \"\\nlog(10)a =\", round(__import__(\"math\").log10(a), 2), \"\\na ^ b =\", a ** b)"
   ]
  },
  {
   "cell_type": "code",
   "execution_count": null,
   "id": "b23f97b0-513d-4aa1-92fc-c1e44c3cf493",
   "metadata": {},
   "outputs": [
    {
     "data": {
      "text/plain": [
       "'\\nBài 15: Năng lượng Q cần để thay đổi ∆T nhiệt độ (xét trường hợp ∆T > 0) của M gram nước được tính bằng: Q = M × C × AT, trong đó ∆T có đơn vị là độ (độ Celsius), M có đơn vị gram và Q có đơn vị là Joules. Viết chương trình theo yêu cầu:\\nĐọc khối lượng của nước và sự thay đổi ∆T nhiệt độ từ người dùng. Chương trình sẽ hiển thị tổng năng lượng của nước khi thay đổi nhiệt độ mong muốn.\\nGợi ý: Nhiệt dung riêng của nước là 4.186 J/g°C.\\nTính toán chi phí khi thay đổi ∆T nhiệt độ của nước, biết rằng: chi phí là 8,9 cent mỗi kilowatt giờ, 1 Joules = 2.777e-7 kWh. Hãy tính chi phí để nước đạt nhiệt độ như yêu cầu.\\n'"
      ]
     },
     "execution_count": 17,
     "metadata": {},
     "output_type": "execute_result"
    }
   ],
   "source": [
    "\"\"\"\n",
    "Bài 15: Năng lượng Q cần để thay đổi ∆T nhiệt độ (xét trường hợp ∆T > 0) của M gram nước được tính bằng: Q = M × C × AT, trong đó ∆T có đơn vị là độ (độ Celsius), M có đơn vị gram và Q có đơn vị là Joules. Viết chương trình theo yêu cầu:\n",
    "Đọc khối lượng của nước và sự thay đổi ∆T nhiệt độ từ người dùng. Chương trình sẽ hiển thị tổng năng lượng của nước khi thay đổi nhiệt độ mong muốn.\n",
    "Gợi ý: Nhiệt dung riêng của nước là 4.186 J/g°C.\n",
    "Tính toán chi phí khi thay đổi ∆T nhiệt độ của nước, biết rằng: chi phí là 8,9 cent mỗi kilowatt giờ, 1 Joules = 2.777e-7 kWh. Hãy tính chi phí để nước đạt nhiệt độ như yêu cầu.\n",
    "\"\"\""
   ]
  },
  {
   "cell_type": "code",
   "execution_count": null,
   "id": "d9f22c2c-f8d9-466d-a8da-e1701b32e5d3",
   "metadata": {},
   "outputs": [
    {
     "name": "stdout",
     "output_type": "stream",
     "text": [
      "Water (gram): 500\n",
      "Delta T (C): 10\n"
     ]
    },
    {
     "name": "stdout",
     "output_type": "stream",
     "text": [
      "Energy required: 20930.0 J\n",
      "Cost: 0.0517291229 cent\n"
     ]
    }
   ],
   "source": [
    "m = float(input(\"Water (gram):\"))\n",
    "delta_t = float(input(\"Delta T (C):\"))\n",
    "\n",
    "c = 4.186 # J/g°C\n",
    "J_to_kWh = 2.777e-7\n",
    "price_per_kWh = 8.9  # cent\n",
    "\n",
    "q = m * c * delta_t\n",
    "\n",
    "energy_kWh = q * J_to_kWh # from J to kWh\n",
    "\n",
    "cost = energy_kWh * price_per_kWh\n",
    "\n",
    "print(\"Energy required:\", q ,\"J\\nCost:\", cost, \"cent\")"
   ]
  },
  {
   "cell_type": "code",
   "execution_count": null,
   "id": "58333b31-7f0f-42f7-b7a3-f928f8bee230",
   "metadata": {},
   "outputs": [
    {
     "data": {
      "text/plain": [
       "'\\nBài 16: Viết một chương trình xác định tốc độ di chuyển của một vật khi nó chạm đất. Người dùng sẽ nhập chiều cao mà từ đó vật đó được thả (đơn vị tính mét (m)).\\nGợi ý: Sử dụng công thức v(f) để tính tốc độ cuối cùng, v(i) tốc độ ban đầu, a là gia tốc trọng trường, và d là độ cao. Tốc độ ban đầu của một vật là 0 m/s, gia tốc trọng trường là 9,8 m/s2.\\n'"
      ]
     },
     "execution_count": 20,
     "metadata": {},
     "output_type": "execute_result"
    }
   ],
   "source": [
    "\"\"\"\n",
    "Bài 16: Viết một chương trình xác định tốc độ di chuyển của một vật khi nó chạm đất. Người dùng sẽ nhập chiều cao mà từ đó vật đó được thả (đơn vị tính mét (m)).\n",
    "Gợi ý: Sử dụng công thức v(f) để tính tốc độ cuối cùng, v(i) tốc độ ban đầu, a là gia tốc trọng trường, và d là độ cao. Tốc độ ban đầu của một vật là 0 m/s, gia tốc trọng trường là 9,8 m/s2.\n",
    "\"\"\""
   ]
  },
  {
   "cell_type": "code",
   "execution_count": null,
   "id": "1a496c9e-577f-4abc-827a-edd54a81c5e9",
   "metadata": {},
   "outputs": [
    {
     "name": "stdout",
     "output_type": "stream",
     "text": [
      "Height (m): 100\n"
     ]
    },
    {
     "name": "stdout",
     "output_type": "stream",
     "text": [
      "v = 44.27 m/s\n"
     ]
    }
   ],
   "source": [
    "height = float(input(\"Height (m):\"))\n",
    "print(\"v =\", round(__import__(\"math\").sqrt((0 ** 2) + (2 * 9.8 * height)), 2), \"m/s\")"
   ]
  },
  {
   "cell_type": "code",
   "execution_count": null,
   "id": "c3e38626-633c-41cd-8a54-841661e08c7f",
   "metadata": {},
   "outputs": [
    {
     "data": {
      "text/plain": [
       "'\\nBài 17: Khi gió thổi trong thời tiết lạnh, làm cho không khí lạnh hơn so với thực tế. Nguyên nhân là do sự chuyển động của không khí làm tăng tốc độ làm mát cho các vật thể (chẳng hạn, như con người).\\nNăm 2001, Canada, Vương quốc Anh và Hoa Kỳ đã áp dụng công thức sau đây để tính toán chỉ số gió lạnh: WCI = 13,12 + 0,6215T(a) - 11,37V^0.16 + 0,3965T(a) V^0.16\\nTrong công thức T(a) là nhiệt độ không khí tính bằng độ C và V là tốc độ gió tính bằng km/giờ.\\nViết chương trình đọc nhiệt độ không khí và tốc độ gió từ người dùng. Hiển thị chỉ số gió lạnh được làm tròn đến số nguyên gần nhất.\\n'"
      ]
     },
     "execution_count": 30,
     "metadata": {},
     "output_type": "execute_result"
    }
   ],
   "source": [
    "\"\"\"\n",
    "Bài 17: Khi gió thổi trong thời tiết lạnh, làm cho không khí lạnh hơn so với thực tế. Nguyên nhân là do sự chuyển động của không khí làm tăng tốc độ làm mát cho các vật thể (chẳng hạn, như con người).\n",
    "Năm 2001, Canada, Vương quốc Anh và Hoa Kỳ đã áp dụng công thức sau đây để tính toán chỉ số gió lạnh: WCI = 13,12 + 0,6215T(a) - 11,37V^0.16 + 0,3965T(a) V^0.16\n",
    "Trong công thức T(a) là nhiệt độ không khí tính bằng độ C và V là tốc độ gió tính bằng km/giờ.\n",
    "Viết chương trình đọc nhiệt độ không khí và tốc độ gió từ người dùng. Hiển thị chỉ số gió lạnh được làm tròn đến số nguyên gần nhất.\n",
    "\"\"\""
   ]
  },
  {
   "cell_type": "code",
   "execution_count": null,
   "id": "2a8cd8ad-21b7-41f1-b205-0cc66c20105c",
   "metadata": {},
   "outputs": [
    {
     "name": "stdout",
     "output_type": "stream",
     "text": [
      "Wind speed (km/h): 100\n",
      "Air temperature (C): 40\n"
     ]
    },
    {
     "name": "stdout",
     "output_type": "stream",
     "text": [
      "WCI: 47\n"
     ]
    }
   ],
   "source": [
    "ws = float(input(\"Wind speed (km/h):\"))\n",
    "at = float(input(\"Air temperature (C):\"))\n",
    "\n",
    "wci = 13.12 + 0.6215 * at - 11.37 * (ws ** 0.16) + 0.3965 * at * (ws ** 0.16)\n",
    "\n",
    "print(\"WCI:\", round(wci))"
   ]
  },
  {
   "cell_type": "code",
   "execution_count": null,
   "id": "285141a2-d0fd-412e-bb65-39cc3a0484c2",
   "metadata": {},
   "outputs": [],
   "source": []
  }
 ],
 "metadata": {
  "kernelspec": {
   "display_name": "Python 3",
   "language": "python",
   "name": "python3"
  },
  "language_info": {
   "codemirror_mode": {
    "name": "ipython",
    "version": 3
   },
   "file_extension": ".py",
   "mimetype": "text/x-python",
   "name": "python",
   "nbconvert_exporter": "python",
   "pygments_lexer": "ipython3",
   "version": "3.12.3"
  }
 },
 "nbformat": 4,
 "nbformat_minor": 5
}
