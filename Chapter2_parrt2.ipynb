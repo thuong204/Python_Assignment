{
 "cells": [
  {
   "cell_type": "code",
   "execution_count": 46,
   "id": "ab140f4b",
   "metadata": {},
   "outputs": [],
   "source": [
    "#Bài 1. Viết một chương trình nhập vào một số nguyên dương. Nếu nó là số chẵn thì in ra chuỗi “Đây là số chẵn”, ngược lại thì in ra chuỗi “Đây là số lẻ”:"
   ]
  },
  {
   "cell_type": "code",
   "execution_count": 47,
   "id": "9083c39b",
   "metadata": {},
   "outputs": [
    {
     "name": "stdout",
     "output_type": "stream",
     "text": [
      "This is an even number\n"
     ]
    }
   ],
   "source": [
    "number = input(\"Enter your positive number:\")\n",
    "if int(number) %2==0:\n",
    "   print(\"This is an even number\")\n",
    "else :\n",
    "   print(\"This is an odd number\")"
   ]
  },
  {
   "cell_type": "code",
   "execution_count": 48,
   "id": "5108612d",
   "metadata": {},
   "outputs": [],
   "source": [
    "#Bài 2. Viết một chương trình kiểm tra một chuỗi nhập vào từ bàn phím: Chuỗi hoa; Chuỗi thường; Chuỗi chứa ký tự hoa và ký tự thường."
   ]
  },
  {
   "cell_type": "code",
   "execution_count": 49,
   "id": "038b1ecf",
   "metadata": {},
   "outputs": [
    {
     "name": "stdout",
     "output_type": "stream",
     "text": [
      "This string contains both upper and lower case letters\n"
     ]
    }
   ],
   "source": [
    "st = input(\"Enter your string:\")\n",
    "if st.isupper():\n",
    "   print(\"This is an upper string\")\n",
    "\n",
    "elif st.islower():\n",
    "   print(\"This is an lower string\")\n",
    "else :\n",
    "   print(\"This string contains both upper and lower case letters\")"
   ]
  },
  {
   "cell_type": "code",
   "execution_count": 50,
   "id": "791ac3a5",
   "metadata": {},
   "outputs": [],
   "source": [
    "#Bài 3. Viết một chương trình kiểm tra một chuỗi có trong chuỗi khác. Yêu cầu:\n",
    "#Nhập vào một chuỗi st\n",
    "#Nhập vào chuỗi cần tìm st_search\n",
    "#Nếu có thì in ra màn hình “Đã tìm thấy chuỗi cần tìm, tại vị trí: …”. \n"
   ]
  },
  {
   "cell_type": "code",
   "execution_count": 51,
   "id": "b1fd05a0",
   "metadata": {},
   "outputs": [
    {
     "name": "stdout",
     "output_type": "stream",
     "text": [
      "This word is found in the string, at location:  0\n"
     ]
    }
   ],
   "source": [
    "st = input(\"Enter your string:\")\n",
    "st_search = input(\"Enter the word that needs to search:\")\n",
    "if st_search in st:\n",
    "   print(\"This word is found in the string, at location: \", str(st.find(st_search)))\n",
    "else :\n",
    "   print(\"This word is not found in the string\")"
   ]
  },
  {
   "cell_type": "code",
   "execution_count": 52,
   "id": "dacec162",
   "metadata": {},
   "outputs": [],
   "source": [
    "# Bài 4. Viết chương trình in số lớn nhất của 3 số"
   ]
  },
  {
   "cell_type": "code",
   "execution_count": 53,
   "id": "fb1dc588",
   "metadata": {},
   "outputs": [
    {
     "name": "stdout",
     "output_type": "stream",
     "text": [
      "The largest number is:  13.0\n"
     ]
    }
   ],
   "source": [
    "num1= float(input(\"Enter your first number:\"))\n",
    "num2= float(input(\"Enter your second number:\"))\n",
    "num3= float(input(\"Enter your third number:\"))\n",
    "\n",
    "max = num1\n",
    "if num2 > max:\n",
    "   max = num2 \n",
    "if num3 > max:\n",
    "   max = num3\n",
    "print(\"The largest number is: \", max)"
   ]
  },
  {
   "cell_type": "code",
   "execution_count": 54,
   "id": "e899ca2a",
   "metadata": {},
   "outputs": [],
   "source": [
    "#Bài 5: Viết một chương trình tính 1/2 + 2/3 + 3/4 + ... + n/(n + 1) với n là số nguyên được nhập vào (n> 0)."
   ]
  },
  {
   "cell_type": "code",
   "execution_count": 55,
   "id": "9afa167c",
   "metadata": {},
   "outputs": [
    {
     "name": "stdout",
     "output_type": "stream",
     "text": [
      "Sum =  108.68220633397169\n"
     ]
    }
   ],
   "source": [
    "n = int(input(\"Enter your number:\"))\n",
    "\n",
    "sum = 0.0\n",
    "for i in range(1, n+1):\n",
    "    sum += float(float(i)/(i+1))\n",
    "print(\"Sum = \", sum)"
   ]
  },
  {
   "cell_type": "code",
   "execution_count": 56,
   "id": "f8c7c862",
   "metadata": {},
   "outputs": [],
   "source": [
    "#Bài 6: Viết một chương trình chấp nhận đầu vào là một câu, đếm số ký tự hoa, số ký tự thường. Giả sử đầu vào là: Quản Trị Mạng\n",
    "#Thì đầu ra là: Chữ hoa: 3\n",
    "#Chữ thường: 8\n"
   ]
  },
  {
   "cell_type": "code",
   "execution_count": 57,
   "id": "969a0c48",
   "metadata": {},
   "outputs": [
    {
     "name": "stdout",
     "output_type": "stream",
     "text": [
      "Sum of upper case letters:  0\n",
      "Sum of lower case letters:  0\n"
     ]
    }
   ],
   "source": [
    "st = input(\"Enter your sentence:\")\n",
    "sum_upper = 0\n",
    "sum_lower = 0\n",
    "for i in st:\n",
    "    if i.isupper():\n",
    "        sum_upper += 1\n",
    "    elif i.islower():\n",
    "        sum_lower += 1\n",
    "    else :\n",
    "        pass\n",
    "print(\"Sum of upper case letters: \", sum_upper)\n",
    "print(\"Sum of lower case letters: \", sum_lower)"
   ]
  },
  {
   "cell_type": "code",
   "execution_count": 58,
   "id": "e8fd1da8",
   "metadata": {},
   "outputs": [],
   "source": [
    "# Bài 7: Một số được gọi là số Amstrong bậc N, nếu nó là số nguyên dương và tổng bậc N của các các chữ số cấu thành thì bằng chính số đó.Ví dụ: \n",
    "#            Số Amstrong bậc 4:  abcd = a4 + b4 + c4 + d4\n",
    "#            Số Amstrong bậc N: abc….d  = aN + bN + cN + ….+ dN\n",
    "#                 Cụ thể: 153 = 1*1*1 + 5*5*5 + 3*3*3  nên 153 số Amstrong.\n",
    "# Viết chương trình nhập vào 1 số, cho biết số đó có phải là số Amstrong hay không\n"
   ]
  },
  {
   "cell_type": "code",
   "execution_count": 59,
   "id": "dfe82deb",
   "metadata": {},
   "outputs": [
    {
     "ename": "KeyboardInterrupt",
     "evalue": "Interrupted by user",
     "output_type": "error",
     "traceback": [
      "\u001b[0;31m---------------------------------------------------------------------------\u001b[0m",
      "\u001b[0;31mKeyboardInterrupt\u001b[0m                         Traceback (most recent call last)",
      "Cell \u001b[0;32mIn[59], line 1\u001b[0m\n\u001b[0;32m----> 1\u001b[0m num \u001b[38;5;241m=\u001b[39m \u001b[38;5;28mint\u001b[39m(\u001b[38;5;28;43minput\u001b[39;49m\u001b[43m(\u001b[49m\u001b[38;5;124;43m\"\u001b[39;49m\u001b[38;5;124;43mEnter your number:\u001b[39;49m\u001b[38;5;124;43m\"\u001b[39;49m\u001b[43m)\u001b[49m)\n\u001b[1;32m      2\u001b[0m \u001b[38;5;28msum\u001b[39m \u001b[38;5;241m=\u001b[39m \u001b[38;5;241m0\u001b[39m\n\u001b[1;32m      3\u001b[0m \u001b[38;5;28;01mfor\u001b[39;00m i \u001b[38;5;129;01min\u001b[39;00m \u001b[38;5;28mstr\u001b[39m(num):\n",
      "File \u001b[0;32m/usr/lib/python3/dist-packages/ipykernel/kernelbase.py:1282\u001b[0m, in \u001b[0;36mKernel.raw_input\u001b[0;34m(self, prompt)\u001b[0m\n\u001b[1;32m   1280\u001b[0m     msg \u001b[38;5;241m=\u001b[39m \u001b[38;5;124m\"\u001b[39m\u001b[38;5;124mraw_input was called, but this frontend does not support input requests.\u001b[39m\u001b[38;5;124m\"\u001b[39m\n\u001b[1;32m   1281\u001b[0m     \u001b[38;5;28;01mraise\u001b[39;00m StdinNotImplementedError(msg)\n\u001b[0;32m-> 1282\u001b[0m \u001b[38;5;28;01mreturn\u001b[39;00m \u001b[38;5;28;43mself\u001b[39;49m\u001b[38;5;241;43m.\u001b[39;49m\u001b[43m_input_request\u001b[49m\u001b[43m(\u001b[49m\n\u001b[1;32m   1283\u001b[0m \u001b[43m    \u001b[49m\u001b[38;5;28;43mstr\u001b[39;49m\u001b[43m(\u001b[49m\u001b[43mprompt\u001b[49m\u001b[43m)\u001b[49m\u001b[43m,\u001b[49m\n\u001b[1;32m   1284\u001b[0m \u001b[43m    \u001b[49m\u001b[38;5;28;43mself\u001b[39;49m\u001b[38;5;241;43m.\u001b[39;49m\u001b[43m_parent_ident\u001b[49m\u001b[43m[\u001b[49m\u001b[38;5;124;43m\"\u001b[39;49m\u001b[38;5;124;43mshell\u001b[39;49m\u001b[38;5;124;43m\"\u001b[39;49m\u001b[43m]\u001b[49m\u001b[43m,\u001b[49m\n\u001b[1;32m   1285\u001b[0m \u001b[43m    \u001b[49m\u001b[38;5;28;43mself\u001b[39;49m\u001b[38;5;241;43m.\u001b[39;49m\u001b[43mget_parent\u001b[49m\u001b[43m(\u001b[49m\u001b[38;5;124;43m\"\u001b[39;49m\u001b[38;5;124;43mshell\u001b[39;49m\u001b[38;5;124;43m\"\u001b[39;49m\u001b[43m)\u001b[49m\u001b[43m,\u001b[49m\n\u001b[1;32m   1286\u001b[0m \u001b[43m    \u001b[49m\u001b[43mpassword\u001b[49m\u001b[38;5;241;43m=\u001b[39;49m\u001b[38;5;28;43;01mFalse\u001b[39;49;00m\u001b[43m,\u001b[49m\n\u001b[1;32m   1287\u001b[0m \u001b[43m\u001b[49m\u001b[43m)\u001b[49m\n",
      "File \u001b[0;32m/usr/lib/python3/dist-packages/ipykernel/kernelbase.py:1325\u001b[0m, in \u001b[0;36mKernel._input_request\u001b[0;34m(self, prompt, ident, parent, password)\u001b[0m\n\u001b[1;32m   1322\u001b[0m \u001b[38;5;28;01mexcept\u001b[39;00m \u001b[38;5;167;01mKeyboardInterrupt\u001b[39;00m:\n\u001b[1;32m   1323\u001b[0m     \u001b[38;5;66;03m# re-raise KeyboardInterrupt, to truncate traceback\u001b[39;00m\n\u001b[1;32m   1324\u001b[0m     msg \u001b[38;5;241m=\u001b[39m \u001b[38;5;124m\"\u001b[39m\u001b[38;5;124mInterrupted by user\u001b[39m\u001b[38;5;124m\"\u001b[39m\n\u001b[0;32m-> 1325\u001b[0m     \u001b[38;5;28;01mraise\u001b[39;00m \u001b[38;5;167;01mKeyboardInterrupt\u001b[39;00m(msg) \u001b[38;5;28;01mfrom\u001b[39;00m \u001b[38;5;28;01mNone\u001b[39;00m\n\u001b[1;32m   1326\u001b[0m \u001b[38;5;28;01mexcept\u001b[39;00m \u001b[38;5;167;01mException\u001b[39;00m:\n\u001b[1;32m   1327\u001b[0m     \u001b[38;5;28mself\u001b[39m\u001b[38;5;241m.\u001b[39mlog\u001b[38;5;241m.\u001b[39mwarning(\u001b[38;5;124m\"\u001b[39m\u001b[38;5;124mInvalid Message:\u001b[39m\u001b[38;5;124m\"\u001b[39m, exc_info\u001b[38;5;241m=\u001b[39m\u001b[38;5;28;01mTrue\u001b[39;00m)\n",
      "\u001b[0;31mKeyboardInterrupt\u001b[0m: Interrupted by user"
     ]
    }
   ],
   "source": [
    "num = int(input(\"Enter your number:\"))\n",
    "sum = 0\n",
    "for i in str(num):\n",
    "    sum += int(i)**len(str(num))\n",
    "if sum == num:\n",
    "    print(\"This is an Armstrong number\")\n",
    "else:\n",
    "    print(\"This is not an Armstrong number\")"
   ]
  },
  {
   "cell_type": "code",
   "execution_count": null,
   "id": "1d5c177e",
   "metadata": {},
   "outputs": [],
   "source": [
    "# Bài 8: Viết chương trình loại bỏ các ký tự không phải là ký tự CHỮ CÁI và SỐ trong một chuỗi. \n",
    "#           Ví dụ: Từ st1 = \"He is very handsome@%^&%^\" \n",
    "#                      Trích thành chuỗi st2 = \"He is very handsome“\n"
   ]
  },
  {
   "cell_type": "code",
   "execution_count": null,
   "id": "d0c95f2d",
   "metadata": {},
   "outputs": [
    {
     "name": "stdout",
     "output_type": "stream",
     "text": [
      "adasdasd1213\n"
     ]
    }
   ],
   "source": [
    "st1 = r\"\"\"!()-[]{};:\"\"\\,<>./?@#$%^&*_~\"\"\"\n",
    "my_string = input(\"Enter your string:\")\n",
    "st2 = \"\"\n",
    "for i in my_string:\n",
    "    if i not in st1:\n",
    "        st2 += i\n",
    "print(st2)"
   ]
  },
  {
   "cell_type": "code",
   "execution_count": null,
   "id": "7dfa3e51",
   "metadata": {},
   "outputs": [],
   "source": [
    "#Bài 9: Viết chương trình tách từ thành 1 danh sách và sắp xếp các từ theo alphabe. \n"
   ]
  },
  {
   "cell_type": "code",
   "execution_count": null,
   "id": "bb7aeb8c",
   "metadata": {},
   "outputs": [
    {
     "name": "stdout",
     "output_type": "stream",
     "text": [
      "Cac tu trong chuoi theo thu tu alphabe:\n",
      "Example\n",
      "Hello\n",
      "an\n",
      "cased\n",
      "is\n",
      "letters\n",
      "this\n",
      "with\n"
     ]
    }
   ],
   "source": [
    "my_str = \"Hello this is an Example with cased letters\"\n",
    "words = my_str.split()\n",
    "words.sort()\n",
    "print(\"Cac tu trong chuoi theo thu tu alphabe:\")\n",
    "for word in words:\n",
    "    print(word)"
   ]
  },
  {
   "cell_type": "code",
   "execution_count": null,
   "id": "db3b71cb",
   "metadata": {},
   "outputs": [],
   "source": [
    "# Bài 10: Viết Chương trình nhập các số từ bàn phím. In ra giá trị trung bình"
   ]
  },
  {
   "cell_type": "code",
   "execution_count": null,
   "id": "528f439f",
   "metadata": {},
   "outputs": [
    {
     "name": "stdout",
     "output_type": "stream",
     "text": [
      "Sum of numbers is:  55\n",
      "Average of numbers is:  13.75\n"
     ]
    }
   ],
   "source": [
    "n = int(input(\"Enter count of numbers:\"))\n",
    "sum = 0\n",
    "for i in range(n):\n",
    "    num = int(input(\"Enter your number:\"))\n",
    "    sum += num\n",
    "print(\"Sum of numbers is: \", sum)\n",
    "print(\"Average of numbers is: \", sum/n)"
   ]
  },
  {
   "cell_type": "code",
   "execution_count": null,
   "id": "4d1dc3fe",
   "metadata": {},
   "outputs": [],
   "source": [
    "# Bài 11: Viết Chương trình nhập các số từ bàn phím, các giá trị này lưu vào danh sách. Sau đó, in ra giá trị trung bình."
   ]
  },
  {
   "cell_type": "code",
   "execution_count": 68,
   "id": "719db4c0",
   "metadata": {},
   "outputs": [
    {
     "name": "stdout",
     "output_type": "stream",
     "text": [
      "Average of numbers is:  13.333333333333334\n"
     ]
    }
   ],
   "source": [
    "count = int(input(\"Enter count of numbers:\"))\n",
    "numlist = list()\n",
    "for i in range(count):\n",
    "    num = int(input(\"Enter your number:\"))\n",
    "    numlist.append(num)\n",
    "\n",
    "for num in numlist:\n",
    "    sum += num\n",
    "print(\"Average of numbers is: \", sum/count)"
   ]
  },
  {
   "cell_type": "code",
   "execution_count": null,
   "id": "531e3089",
   "metadata": {},
   "outputs": [],
   "source": [
    "# Bài 12: Viết chương trình tìm tất cả các số chia hết cho 7 nhưng không phải bội số của 5, nằm trong đoạn 2000 và 3200 (tính cả 2000 và 3200). Các số thu được sẽ được lưu vào 1 danh sách sau đó in thành chuỗi trên một dòng, cách nhau bằng dấu phẩy."
   ]
  },
  {
   "cell_type": "code",
   "execution_count": 80,
   "id": "58726212",
   "metadata": {},
   "outputs": [
    {
     "name": "stdout",
     "output_type": "stream",
     "text": [
      "2002,2009,2016,2023,2037,2044,2051,2058,2072,2079,2086,2093,2107,2114,2121,2128,2142,2149,2156,2163,2177,2184,2191,2198,2212,2219,2226,2233,2247,2254,2261,2268,2282,2289,2296,2303,2317,2324,2331,2338,2352,2359,2366,2373,2387,2394,2401,2408,2422,2429,2436,2443,2457,2464,2471,2478,2492,2499,2506,2513,2527,2534,2541,2548,2562,2569,2576,2583,2597,2604,2611,2618,2632,2639,2646,2653,2667,2674,2681,2688,2702,2709,2716,2723,2737,2744,2751,2758,2772,2779,2786,2793,2807,2814,2821,2828,2842,2849,2856,2863,2877,2884,2891,2898,2912,2919,2926,2933,2947,2954,2961,2968,2982,2989,2996,3003,3017,3024,3031,3038,3052,3059,3066,3073,3087,3094,3101,3108,3122,3129,3136,3143,3157,3164,3171,3178,3192,3199\n"
     ]
    }
   ],
   "source": [
    "j = []\n",
    "for i in range(2000, 3201):\n",
    "    if (i % 7 == 0) and (i % 5 != 0):\n",
    "        j.append(str(i))\n",
    "print(\",\".join(j))    "
   ]
  },
  {
   "cell_type": "code",
   "execution_count": 81,
   "id": "65dafd1a",
   "metadata": {},
   "outputs": [],
   "source": [
    "# Bài 13: Viết một chương trình cho phép người dung nhập vào một chuỗi trên nhiều dòng, sau đó chuyển các dòng này thành chữ in hoa và in ra màn hình. Yêu cầu:"
   ]
  },
  {
   "cell_type": "code",
   "execution_count": 82,
   "id": "7863d0b2",
   "metadata": {},
   "outputs": [
    {
     "name": "stdout",
     "output_type": "stream",
     "text": [
      "ASSASDDD D SD S D SDS\n",
      "FFDSDS DSDS DGFDGDXV \n"
     ]
    }
   ],
   "source": [
    "lines = []\n",
    "while True:\n",
    "    s = input()\n",
    "    if s:\n",
    "        lines.append(s.upper())\n",
    "    else:\n",
    "        break\n",
    "for line in lines:\n",
    "    print(line)"
   ]
  },
  {
   "cell_type": "code",
   "execution_count": null,
   "id": "27bae5e9",
   "metadata": {},
   "outputs": [],
   "source": [
    "# Bài 14: Viết một chương trình tìm tất cả các số trong đoạn 100 và 300 (tính cả 2 số này) sao cho tất cả các chữ số trong số đó là số chẵn. In các số tìm được thành chuỗi cách nhau bởi dấu phẩy, trên một dòng. "
   ]
  },
  {
   "cell_type": "code",
   "execution_count": 87,
   "id": "753fc06d",
   "metadata": {},
   "outputs": [
    {
     "name": "stdout",
     "output_type": "stream",
     "text": [
      "200,202,204,206,208,220,222,224,226,228,240,242,244,246,248,260,262,264,266,268,280,282,284,286,288\n"
     ]
    }
   ],
   "source": [
    "list = []\n",
    "for i in range (100, 301) :\n",
    "    c = str(i)\n",
    "    if(int(c[2]) %2 ==0 and int(c[0]) % 2 == 0 and int(c[1])% 2 ==0 ) : \n",
    "        list.append(str(i))\n",
    "print(\",\".join(list))\n"
   ]
  },
  {
   "cell_type": "code",
   "execution_count": null,
   "id": "0928f18a",
   "metadata": {},
   "outputs": [],
   "source": [
    "# Bài 15: Viết chương trình nhập một chuỗi số, phân tách bằng dấu phẩy. In ra một danh sách và một tuple chứa mọi số.\n",
    "# Ví dụ: Đầu vào được cung cấp là 34,67,55,33,12,98 thì đầu ra là:\n",
    "# [\"34\", \"67\", \"55\", \"33\", \"12\", \"98\"]\n",
    "# (\"34\", \"67\", \"55\", \"33\", \"12\", \"98\")"
   ]
  },
  {
   "cell_type": "code",
   "execution_count": 88,
   "id": "f213b829",
   "metadata": {},
   "outputs": [
    {
     "name": "stdout",
     "output_type": "stream",
     "text": [
      "['10', '20', '32', '10', '34']\n",
      "('10', '20', '32', '10', '34')\n"
     ]
    }
   ],
   "source": [
    "chuoi = input(\"Nhap chuoi so\")\n",
    "chuoi_ds = chuoi.split(\",\")\n",
    "chuoi_tuple= tuple(chuoi_ds)\n",
    "print(chuoi_ds)\n",
    "print(chuoi_tuple)"
   ]
  },
  {
   "cell_type": "code",
   "execution_count": null,
   "id": "a7c46895",
   "metadata": {},
   "outputs": [],
   "source": [
    "# Bai 16 \n",
    "# Tạo ra một tự điển, có n phần tử, các khóa là từ 1 đến n và giá trị tương ứng là bình phương của khóa. Sau đó in từ điển ra màn hình\n"
   ]
  },
  {
   "cell_type": "code",
   "execution_count": 89,
   "id": "0560b7d3",
   "metadata": {},
   "outputs": [
    {
     "name": "stdout",
     "output_type": "stream",
     "text": [
      "{1: 1, 2: 4, 3: 9, 4: 16, 5: 25, 6: 36, 7: 49, 8: 64, 9: 81, 10: 100}\n"
     ]
    }
   ],
   "source": [
    "n = int(input(\"Enter a number\"))\n",
    "dic = dict()\n",
    "for i in range (1,n+1) :\n",
    "    dic[i] = i*i\n",
    "print(dic)\n"
   ]
  },
  {
   "cell_type": "code",
   "execution_count": null,
   "id": "44461595",
   "metadata": {},
   "outputs": [],
   "source": [
    "# Bài 17: Sử dụng cấu trúc từ điển, viết một chương trình nhập một câu, in số chữ cái và chữ số trong câu đó. Giả sử đầu vào chuỗi: hello world! 123\n",
    "#    Thì đầu ra sẽ là: \n",
    "#                        - Số chữ cái là: 10\n",
    "#                        - Số chữ số là: 3\n"
   ]
  },
  {
   "cell_type": "code",
   "execution_count": 90,
   "id": "6fd94ff5",
   "metadata": {},
   "outputs": [
    {
     "name": "stdout",
     "output_type": "stream",
     "text": [
      "25 7\n"
     ]
    }
   ],
   "source": [
    "chuoi = input(\"Nhap vao mot chuoi\")\n",
    "d = {\n",
    "    \"chu_cai\": 0,\n",
    "    \"chu_so\":0\n",
    "}\n",
    "for ch  in chuoi :\n",
    "    if ch.isalpha():\n",
    "        d[\"chu_cai\"] +=1\n",
    "    elif ch.isdigit() : \n",
    "        d[\"chu_so\"] +=1\n",
    "    else: \n",
    "        pass\n",
    "print(d[\"chu_cai\"], d[\"chu_so\"])\n",
    "\n"
   ]
  },
  {
   "cell_type": "code",
   "execution_count": null,
   "id": "b4285c91",
   "metadata": {},
   "outputs": [],
   "source": [
    "# Bài 18: Sử dụng cấu trúc từ điển, viết một chương trình nhập một câu, in số chữ hoa và số chữ thường trong câu đó. Giả sử đầu vào chuỗi: Hello World\n",
    "#    Thì đầu ra sẽ là: \n",
    "#                        - Số chữ thường: 8\n",
    "#                        - Số chữ hoa: 2"
   ]
  },
  {
   "cell_type": "code",
   "execution_count": 97,
   "id": "c6c329b8",
   "metadata": {},
   "outputs": [
    {
     "name": "stdout",
     "output_type": "stream",
     "text": [
      "học 9\n",
      "để 1\n",
      "vui 1\n",
      "trưởng 1\n",
      "thành 1\n",
      "ta 1\n",
      "nữa 1\n",
      "niềm 1\n",
      "ngày 1\n",
      "mỗi 1\n"
     ]
    }
   ],
   "source": [
    "# Bai 19 Hiển thị 10 từ có tuần suất xuất hiện nhiều nhất\n",
    "# (phổ biến nhất)\n",
    "\n",
    "ftext = open(\"romeo.txt\")\n",
    "tu_dien = {}\n",
    "\n",
    "for dong in ftext:\n",
    "    danh_sach_tu = dong.split()\n",
    "    for tu in danh_sach_tu:\n",
    "        tu_dien[tu] = tu_dien.get(tu,0)+1\n",
    "danh_sach  = []\n",
    "for key,val in tu_dien.items():\n",
    "    newtup=(val,key)\n",
    "    danh_sach.append(newtup)\n",
    "danh_sach = sorted(danh_sach, reverse=True)\n",
    "for val,key in danh_sach[:10] :\n",
    "    print(key,val)\n",
    "\n"
   ]
  },
  {
   "cell_type": "code",
   "execution_count": null,
   "id": "224d6d15",
   "metadata": {},
   "outputs": [],
   "source": []
  }
 ],
 "metadata": {
  "kernelspec": {
   "display_name": "Python 3",
   "language": "python",
   "name": "python3"
  },
  "language_info": {
   "codemirror_mode": {
    "name": "ipython",
    "version": 3
   },
   "file_extension": ".py",
   "mimetype": "text/x-python",
   "name": "python",
   "nbconvert_exporter": "python",
   "pygments_lexer": "ipython3",
   "version": "3.12.3"
  }
 },
 "nbformat": 4,
 "nbformat_minor": 5
}
