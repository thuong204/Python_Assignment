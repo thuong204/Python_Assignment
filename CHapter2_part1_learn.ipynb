{
 "cells": [
  {
   "cell_type": "code",
   "execution_count": null,
   "id": "36a021dc",
   "metadata": {},
   "outputs": [
    {
     "name": "stdout",
     "output_type": "stream",
     "text": [
      "A Supper String is: TRAN CONG THUONG\n",
      "A Lower String is: tran cong thuong\n",
      "A Title String is: Tran Cong Thuong\n"
     ]
    }
   ],
   "source": [
    "st = input(\"Enter your string:\")\n",
    "st_upper = st.upper()\n",
    "st_lower = st.lower()\n",
    "st_title = st.title()\n",
    "\n",
    "print(\"A Supper String is: \" + st_upper)\n",
    "print(\"A Lower String is: \" + st_lower)\n",
    "print(\"A Title String is: \" + st_title) "
   ]
  },
  {
   "cell_type": "code",
   "execution_count": 5,
   "id": "5bee29fe",
   "metadata": {},
   "outputs": [
    {
     "name": "stdout",
     "output_type": "stream",
     "text": [
      "gmail.com\n"
     ]
    }
   ],
   "source": [
    "data = \"trancongthuong@gmail.com\"\n",
    "position = data.find(\"@\")\n",
    "host = data[position+1 :]\n",
    "print(host)"
   ]
  },
  {
   "cell_type": "code",
   "execution_count": 9,
   "id": "ad2c9418",
   "metadata": {},
   "outputs": [
    {
     "name": "stdout",
     "output_type": "stream",
     "text": [
      "gmail.com\n"
     ]
    }
   ],
   "source": [
    "data = \"minhnhutvh@gmail.com•Sat•Jan•5•09:14:16\"\n",
    "start_position = data.find(\"@\")\n",
    "end_position = data.find(\"•\", start_position)\n",
    "host = data[start_position + 1 : end_position]\n",
    "print(host)"
   ]
  },
  {
   "cell_type": "code",
   "execution_count": 11,
   "id": "f1ec2cc3",
   "metadata": {},
   "outputs": [
    {
     "name": "stdout",
     "output_type": "stream",
     "text": [
      "tran thuong\n"
     ]
    }
   ],
   "source": [
    "st1 = input(\"Enter your string:\")\n",
    "st2 = input(\"Enter the word that needs to replace:\")\n",
    "st3 = input(\"Enter the word after being replaced: \")\n",
    "st1 = st1.replace(st2, st3)\n",
    "print(st1)"
   ]
  },
  {
   "cell_type": "code",
   "execution_count": 12,
   "id": "188db834",
   "metadata": {},
   "outputs": [
    {
     "name": "stdout",
     "output_type": "stream",
     "text": [
      "Tran \n",
      "huong\n",
      "Tran Cong Thuong Tran Cong Thuong Tran Cong Thuong Tran Cong Thuong \n",
      "Tran Cong Thuong\n",
      "Tran Cong Thuong\n",
      "Tran Cong Thuong\n",
      "Tran Cong Thuong\n",
      "\n"
     ]
    }
   ],
   "source": [
    "st = input(\"Enter your string: \")\n",
    "first_five_characters = st[:5]\n",
    "last_five_characters = st[len(st)-5:]\n",
    "t4_str_1_line = 4 * (st +\" \")\n",
    "t4_str_4_line = 4 * (st +\"\\n\")\n",
    "\n",
    "print(first_five_characters)\n",
    "print(last_five_characters)\n",
    "print(t4_str_1_line)\n",
    "print(t4_str_4_line)\n",
    "\n"
   ]
  },
  {
   "cell_type": "code",
   "execution_count": 17,
   "id": "0406a5d4",
   "metadata": {},
   "outputs": [
    {
     "name": "stdout",
     "output_type": "stream",
     "text": [
      "V =  113.09733552923255\n"
     ]
    }
   ],
   "source": [
    "import math\n",
    "\n",
    "\n",
    "r = float(input(\"Enter r: \"))\n",
    "h = float(input(\"Enter h: \"))\n",
    "V = math.pi*math.pow(r,2)*h\n",
    "print(\"V = \", V)\n"
   ]
  },
  {
   "cell_type": "code",
   "execution_count": 13,
   "id": "9c58c0a1",
   "metadata": {},
   "outputs": [
    {
     "name": "stdout",
     "output_type": "stream",
     "text": [
      "S1 = 15.588457268119894\n",
      "S2 = 15.588457268119894\n",
      "S3 = 15.588457268119894\n"
     ]
    }
   ],
   "source": [
    "import math\n",
    "\n",
    "# Nhập 3 cạnh\n",
    "ab = float(input(\"Enter ab: \"))\n",
    "bc = float(input(\"Enter bc: \"))\n",
    "ca = float(input(\"Enter ca: \"))\n",
    "\n",
    "# Validate cạnh\n",
    "if ab <= 0 or bc <= 0 or ca <= 0:\n",
    "    print(\"❌ Enter a valid number of canh\")\n",
    "    exit()\n",
    "\n",
    "# Nhập 3 góc (theo độ)\n",
    "A = float(input(\"Enter angle A (degree): \"))\n",
    "B = float(input(\"Enter angle B (degree): \"))\n",
    "C = float(input(\"Enter angle C (degree): \"))\n",
    "\n",
    "# Validate góc\n",
    "if A >= 180 or B >= 180 or C >= 180 or A <= 0 or B <= 0 or C <= 0 or (A + B + C) != 180:\n",
    "    print(\"❌ Enter a valid number of angle A B C\")\n",
    "    exit()\n",
    "\n",
    "# Chuyển sang radian để tính sin\n",
    "A = math.radians(A)\n",
    "B = math.radians(B)\n",
    "C = math.radians(C)\n",
    "\n",
    "# Tính diện tích theo từng công thức\n",
    "S1 = 0.5 * ab * bc * math.sin(C)\n",
    "S2 = 0.5 * bc * ca * math.sin(A)\n",
    "S3 = 0.5 * ca * ab * math.sin(B)\n",
    "\n",
    "print(\"S1 =\", S1)\n",
    "print(\"S2 =\", S2)\n",
    "print(\"S3 =\", S3)\n",
    "\n",
    "\n"
   ]
  },
  {
   "cell_type": "code",
   "execution_count": 15,
   "id": "867716e8",
   "metadata": {},
   "outputs": [
    {
     "name": "stdout",
     "output_type": "stream",
     "text": [
      "S =  15.588457268119894\n"
     ]
    }
   ],
   "source": [
    "a = float(input(\"Enter a:\"))\n",
    "print(\"S = \", math.pow(a,2)* math.sqrt(3)/4)"
   ]
  },
  {
   "cell_type": "code",
   "execution_count": 17,
   "id": "a9bb4180",
   "metadata": {},
   "outputs": [
    {
     "name": "stdout",
     "output_type": "stream",
     "text": [
      "Dien tich =  12.0\n"
     ]
    }
   ],
   "source": [
    "a = float(input(\"Nhap chieu dai a: \"))\n",
    "b = float(input(\"Nhap chieu rong b: \"))\n",
    "if(a < b) : print(\"Chieu dai khong duoc nho hon chieu rong\")\n",
    "else : \n",
    "    print(\"Dien tich = \", a*b)\n",
    "\n",
    "\n"
   ]
  },
  {
   "cell_type": "code",
   "execution_count": 20,
   "id": "b7276013",
   "metadata": {},
   "outputs": [
    {
     "name": "stdout",
     "output_type": "stream",
     "text": [
      "Dien tich =  0.459 (Mau Anh)\n"
     ]
    }
   ],
   "source": [
    "a = float(input(\"Nhap chieu dai a: \"))\n",
    "b = float(input(\"Nhap chieu rong b: \"))\n",
    "if(a < b) : print(\"Chieu dai khong duoc nho hon chieu rong\")\n",
    "else : \n",
    "    print(\"Dien tich = \", round(a*b/43.560,3), \"(Mau Anh)\")\n",
    "\n",
    "\n"
   ]
  },
  {
   "cell_type": "code",
   "execution_count": 24,
   "id": "7f09d691",
   "metadata": {},
   "outputs": [
    {
     "name": "stdout",
     "output_type": "stream",
     "text": [
      "Tong tien =  23.37\n"
     ]
    }
   ],
   "source": [
    "chiphi = float(input(\"Enter price: \"))\n",
    "boa = chiphi*18/100\n",
    "thue = chiphi*5/100\n",
    "\n",
    "print(\"Tong tien = \", round(chiphi+boa+thue,2))\n"
   ]
  },
  {
   "cell_type": "code",
   "execution_count": null,
   "id": "f964e61a",
   "metadata": {},
   "outputs": [
    {
     "name": "stdout",
     "output_type": "stream",
     "text": [
      "Sum =  15.0\n"
     ]
    }
   ],
   "source": [
    "n = int(input(\"Enter n:\"))\n",
    "print(\"Sum = \", n*(n+1)/2)"
   ]
  },
  {
   "cell_type": "code",
   "execution_count": 28,
   "id": "1975f519",
   "metadata": {},
   "outputs": [
    {
     "name": "stdout",
     "output_type": "stream",
     "text": [
      "Tong =  7\n",
      "Hieu =  -3\n",
      "Tich =  10\n",
      "Thuong =  0.4\n",
      "Phan du =  2\n",
      "Log10a =  0.3010299956639812\n",
      "a^b =  32.0\n"
     ]
    }
   ],
   "source": [
    "a  = int(input(\"Enter a:\"))\n",
    "b = int(input(\"Enter b: \"))\n",
    "\n",
    "print(\"Tong = \", a+b)\n",
    "print(\"Hieu = \", a-b)\n",
    "print(\"Tich = \", a*b)\n",
    "print(\"Thuong = \", a/b)\n",
    "print(\"Phan du = \", a%b)\n",
    "print(\"Log10a = \", math.log10(a))\n",
    "print(\"a^b = \", math.pow(a,b))\n",
    "\n",
    "\n",
    "\n"
   ]
  },
  {
   "cell_type": "code",
   "execution_count": null,
   "id": "0f531a69",
   "metadata": {},
   "outputs": [],
   "source": []
  },
  {
   "cell_type": "code",
   "execution_count": null,
   "id": "c7e7b4fe",
   "metadata": {},
   "outputs": [],
   "source": []
  }
 ],
 "metadata": {
  "kernelspec": {
   "display_name": "Python 3",
   "language": "python",
   "name": "python3"
  },
  "language_info": {
   "codemirror_mode": {
    "name": "ipython",
    "version": 3
   },
   "file_extension": ".py",
   "mimetype": "text/x-python",
   "name": "python",
   "nbconvert_exporter": "python",
   "pygments_lexer": "ipython3",
   "version": "3.12.3"
  }
 },
 "nbformat": 4,
 "nbformat_minor": 5
}
