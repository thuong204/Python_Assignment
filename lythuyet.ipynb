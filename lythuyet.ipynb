{
 "cells": [
  {
   "cell_type": "code",
   "execution_count": 4,
   "id": "a750542e",
   "metadata": {},
   "outputs": [
    {
     "name": "stdout",
     "output_type": "stream",
     "text": [
      "python\n",
      "6\n"
     ]
    }
   ],
   "source": [
    "s = \"Monty python\"\n",
    "print(s[6:20])\n",
    "print(len(s[6:20]))"
   ]
  },
  {
   "cell_type": "code",
   "execution_count": 2,
   "id": "a026cb3f",
   "metadata": {},
   "outputs": [
    {
     "name": "stdout",
     "output_type": "stream",
     "text": [
      "This is an even number\n"
     ]
    }
   ],
   "source": [
    "number = input(\"Enter your positive number\")\n",
    "if int(number) %2==0:\n",
    "   print(\"This is an even number\")\n",
    "else :\n",
    "   print(\"This is an odd number\")"
   ]
  },
  {
   "cell_type": "code",
   "execution_count": 5,
   "id": "dd7af68a",
   "metadata": {},
   "outputs": [
    {
     "name": "stdout",
     "output_type": "stream",
     "text": [
      " Tran Cong Thuong\n",
      "Tran Cong Thuong \n",
      "Tran Cong Thuong\n"
     ]
    }
   ],
   "source": [
    "name = \" Tran Cong Thuong \"\n",
    "print(name.rstrip())\n",
    "print(name.lstrip())\n",
    "print(name.strip())"
   ]
  },
  {
   "cell_type": "code",
   "execution_count": 7,
   "id": "9a473b9f",
   "metadata": {},
   "outputs": [
    {
     "name": "stdout",
     "output_type": "stream",
     "text": [
      "Hello Python 2.7.14\n"
     ]
    }
   ],
   "source": [
    "name= \"Hello Python 2.0\"\n",
    "print(name.replace(\"2.0\",\"2.7.14\"))"
   ]
  },
  {
   "cell_type": "code",
   "execution_count": 10,
   "id": "be3e7b40",
   "metadata": {},
   "outputs": [
    {
     "name": "stdout",
     "output_type": "stream",
     "text": [
      "6\n",
      "-1\n"
     ]
    }
   ],
   "source": [
    "name =  \"Hello Thuong\"\n",
    "print(name.find(\"Thuong\"))\n",
    "print(name.find(\"Thuong123\",0,5))\n"
   ]
  },
  {
   "cell_type": "code",
   "execution_count": null,
   "id": "e3cfd400",
   "metadata": {},
   "outputs": [
    {
     "name": "stdout",
     "output_type": "stream",
     "text": [
      "True\n",
      "True\n"
     ]
    }
   ],
   "source": [
    "name1  = \"HELLO\"\n",
    "name2 = \"hello\"\n",
    "print(name1.isupper())\n",
    "print(name2.islower())\n",
    "\n"
   ]
  },
  {
   "cell_type": "code",
   "execution_count": 14,
   "id": "d9e85a42",
   "metadata": {},
   "outputs": [
    {
     "name": "stdout",
     "output_type": "stream",
     "text": [
      "Tran Cong Thuong\n"
     ]
    }
   ],
   "source": [
    "name=\"Thuong\"\n",
    "firstname=\"Tran\"\n",
    "lastname=\"Cong\"\n",
    "fullname = firstname+ \" \" + lastname+ \" \" + name\n",
    "print(fullname)"
   ]
  }
 ],
 "metadata": {
  "kernelspec": {
   "display_name": "Python 3",
   "language": "python",
   "name": "python3"
  },
  "language_info": {
   "codemirror_mode": {
    "name": "ipython",
    "version": 3
   },
   "file_extension": ".py",
   "mimetype": "text/x-python",
   "name": "python",
   "nbconvert_exporter": "python",
   "pygments_lexer": "ipython3",
   "version": "3.12.3"
  }
 },
 "nbformat": 4,
 "nbformat_minor": 5
}
